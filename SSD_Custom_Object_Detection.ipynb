{
  "nbformat": 4,
  "nbformat_minor": 0,
  "metadata": {
    "colab": {
      "name": "SSD_Custom_Object_Detection.ipynb",
      "provenance": [],
      "include_colab_link": true
    },
    "kernelspec": {
      "name": "python3",
      "display_name": "Python 3"
    },
    "language_info": {
      "name": "python"
    },
    "accelerator": "GPU"
  },
  "cells": [
    {
      "cell_type": "markdown",
      "metadata": {
        "id": "view-in-github",
        "colab_type": "text"
      },
      "source": [
        "<a href=\"https://colab.research.google.com/github/sayan0506/SSD-Custom-Object-Detection-Using-Pytorch/blob/main/SSD_Custom_Object_Detection.ipynb\" target=\"_parent\"><img src=\"https://colab.research.google.com/assets/colab-badge.svg\" alt=\"Open In Colab\"/></a>"
      ]
    },
    {
      "cell_type": "markdown",
      "metadata": {
        "id": "mQCnMOU9pK-l"
      },
      "source": [
        "# **Implement SSD for Object Detection using Pytorch**\n",
        "\n",
        "Here, in this notebook we will try to implement SSD(Single Shot multi-box Detection) algorithm for object detection, this code is inspired from the book - \"[Modern Computer Vision with PyTorch](https://www.packtpub.com/product/modern-computer-vision-with-pytorch/9781839213472)\". FOr this experiment, we will try to utilize the object detection from image size 300, thus we will use SSD300 variant of the SSD series"
      ]
    },
    {
      "cell_type": "markdown",
      "metadata": {
        "id": "VGmOxRTfumjD"
      },
      "source": [
        "## **Install Dependencies**\n",
        "\n",
        "* [torch_snippets](https://github.com/sizhky/torch_snippets) - contains the utility functions for simple supporting tasks regardinfg tor ch implementations\n",
        "* [How to run wget quietly](http://oliviertech.com/linux/how-to-run-wget-quietly/#:~:text=The%20wget%20command%20is%20used,are%20writtent%20in%20the%20output.) - wget function is used to download files from given url, and \"wget -q\", here -q parameter helps to download from wget quietly, so that the output/download status will not print in the console/terminal"
      ]
    },
    {
      "cell_type": "code",
      "metadata": {
        "id": "H9Doaoz7crli",
        "colab": {
          "base_uri": "https://localhost:8080/"
        },
        "outputId": "b2039c2f-ddb7-4b34-a546-0b5609952c22"
      },
      "source": [
        "# installs torch_snippets and utils quietly\n",
        "!pip install -q torch_snippets"
      ],
      "execution_count": 4,
      "outputs": [
        {
          "output_type": "stream",
          "name": "stdout",
          "text": [
            "\u001b[?25l\r\u001b[K     |███████▋                        | 10 kB 17.9 MB/s eta 0:00:01\r\u001b[K     |███████████████▏                | 20 kB 19.6 MB/s eta 0:00:01\r\u001b[K     |██████████████████████▉         | 30 kB 20.6 MB/s eta 0:00:01\r\u001b[K     |██████████████████████████████▍ | 40 kB 12.6 MB/s eta 0:00:01\r\u001b[K     |████████████████████████████████| 43 kB 862 kB/s \n",
            "\u001b[K     |████████████████████████████████| 56 kB 4.0 MB/s \n",
            "\u001b[K     |████████████████████████████████| 57 kB 4.8 MB/s \n",
            "\u001b[K     |████████████████████████████████| 212 kB 33.3 MB/s \n",
            "\u001b[K     |████████████████████████████████| 10.1 MB 40.8 MB/s \n",
            "\u001b[K     |████████████████████████████████| 51 kB 6.4 MB/s \n",
            "\u001b[?25h"
          ]
        }
      ]
    },
    {
      "cell_type": "markdown",
      "metadata": {
        "id": "dQWJLU272fG2"
      },
      "source": [
        "## **Import Libraries**"
      ]
    },
    {
      "cell_type": "code",
      "metadata": {
        "id": "49ttx0-Mz0Fl"
      },
      "source": [
        "import os, collections\n",
        "from torch_snippets import *\n",
        "import torch\n",
        "from torchvision import transforms\n",
        "import pandas as pd\n",
        "import matplotlib.pyplot as plt"
      ],
      "execution_count": 5,
      "outputs": []
    },
    {
      "cell_type": "markdown",
      "metadata": {
        "id": "i4a2OT75dFDj"
      },
      "source": [
        "#### **Environment setup**\n",
        "\n",
        "Checks whether the torch uses the gpu or not, and the currrent device assign and checks device properties"
      ]
    },
    {
      "cell_type": "code",
      "metadata": {
        "colab": {
          "base_uri": "https://localhost:8080/"
        },
        "id": "VySkv50cdIkM",
        "outputId": "b14867c9-bfc9-4fea-8ba5-fe323ff4be58"
      },
      "source": [
        "# asign device\n",
        "device = torch.device('cuda') if torch.cuda.is_available() else torch.device('cpu')\n",
        "#print(f'Available devices {torch.cuda.get_}')\n",
        "# torch.cuda.current_device() returns device id of the current device from available list\n",
        "# torch.cuda.get_device_name(id) returns the device name corresponding to the id\n",
        "print(f'Current device - {torch.cuda.get_device_properties(torch.cuda.current_device())}')"
      ],
      "execution_count": 25,
      "outputs": [
        {
          "output_type": "stream",
          "name": "stdout",
          "text": [
            "Current device - _CudaDeviceProperties(name='Tesla K80', major=3, minor=7, total_memory=11441MB, multi_processor_count=13)\n"
          ]
        }
      ]
    },
    {
      "cell_type": "markdown",
      "metadata": {
        "id": "bIiCNuVx2_f9"
      },
      "source": [
        "## **Data Download**\n",
        "\n",
        "* Download the bus-truck images dataset for object detection from dropbox link.\n",
        "* Clone ssd utils - [SSD-utils](https://github.com/sizhky/ssd-utils/)"
      ]
    },
    {
      "cell_type": "code",
      "metadata": {
        "id": "RUSY3kU32uEi"
      },
      "source": [
        "# project folder\n",
        "project_path = 'open-images-bus-trucks'\n",
        "\n",
        "# checks whether the data is downloaded or not \n",
        "if not os.path.exists(project_path):\n",
        "  # download the tar.xz zip file from dropbox\n",
        "  !wget --quiet https://www.dropbox.com/s/agmzwk95v96ihic/\\\n",
        "open-images-bus-trucks.tar.xz\n",
        "  # extract the tar file\n",
        "  !tar -xf open-images-bus-trucks.tar.xz\n",
        "  # remove the zip file to  save space\n",
        "  !rm open-images-bus-trucks.tar.xz\n",
        "  # clone the SSD utils repo\n",
        "  !git clone https://github.com/sizhky/ssd-utils/"
      ],
      "execution_count": 6,
      "outputs": []
    },
    {
      "cell_type": "code",
      "metadata": {
        "id": "QwppjnnE4Lnd"
      },
      "source": [
        ""
      ],
      "execution_count": null,
      "outputs": []
    }
  ]
}