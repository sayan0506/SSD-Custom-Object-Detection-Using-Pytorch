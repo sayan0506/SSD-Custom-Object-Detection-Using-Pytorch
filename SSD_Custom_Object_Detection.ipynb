{
  "nbformat": 4,
  "nbformat_minor": 0,
  "metadata": {
    "colab": {
      "name": "SSD_Custom_Object_Detection.ipynb",
      "provenance": [],
      "include_colab_link": true
    },
    "kernelspec": {
      "name": "python3",
      "display_name": "Python 3"
    },
    "language_info": {
      "name": "python"
    },
    "accelerator": "GPU"
  },
  "cells": [
    {
      "cell_type": "markdown",
      "metadata": {
        "id": "view-in-github",
        "colab_type": "text"
      },
      "source": [
        "<a href=\"https://colab.research.google.com/github/sayan0506/SSD-Custom-Object-Detection-Using-Pytorch/blob/main/SSD_Custom_Object_Detection.ipynb\" target=\"_parent\"><img src=\"https://colab.research.google.com/assets/colab-badge.svg\" alt=\"Open In Colab\"/></a>"
      ]
    },
    {
      "cell_type": "markdown",
      "metadata": {
        "id": "mQCnMOU9pK-l"
      },
      "source": [
        "# **Implement SSD for Object Detection using Pytorch**\n",
        "\n",
        "Here, in this notebook we will try to implement SSD(Single Shot multi-box Detection) algorithm for object detection, this code is inspired from the book - \"[Modern Computer Vision with PyTorch](https://www.packtpub.com/product/modern-computer-vision-with-pytorch/9781839213472)\". FOr this experiment, we will try to utilize the object detection from image size 300, thus we will use SSD300 variant of the SSD series"
      ]
    },
    {
      "cell_type": "markdown",
      "metadata": {
        "id": "VGmOxRTfumjD"
      },
      "source": [
        "## **Install Dependencies**\n",
        "\n",
        "* [torch_snippets](https://github.com/sizhky/torch_snippets) - contains the utility functions for simple supporting tasks regardinfg tor ch implementations\n",
        "* [How to run wget quietly](http://oliviertech.com/linux/how-to-run-wget-quietly/#:~:text=The%20wget%20command%20is%20used,are%20writtent%20in%20the%20output.) - wget function is used to download files from given url, and \"wget -q\", here -q parameter helps to download from wget quietly, so that the output/download status will not print in the console/terminal"
      ]
    },
    {
      "cell_type": "code",
      "metadata": {
        "id": "H9Doaoz7crli"
      },
      "source": [
        "# installs torch_snippets and utils quietly\n",
        "!pip install -q torch_snippets"
      ],
      "execution_count": 5,
      "outputs": []
    },
    {
      "cell_type": "markdown",
      "metadata": {
        "id": "dQWJLU272fG2"
      },
      "source": [
        "## **Import Libraries**"
      ]
    },
    {
      "cell_type": "code",
      "metadata": {
        "id": "49ttx0-Mz0Fl"
      },
      "source": [
        "import os, collections\n",
        "from torch_snippets import *\n",
        "import torch\n",
        "from torchvision import transforms\n",
        "import pandas as pd\n",
        "import matplotlib.pyplot as plt"
      ],
      "execution_count": 6,
      "outputs": []
    },
    {
      "cell_type": "markdown",
      "metadata": {
        "id": "i4a2OT75dFDj"
      },
      "source": [
        "#### **Environment setup**\n",
        "\n",
        "Checks whether the torch uses the gpu or not, and the currrent device assign and checks device properties"
      ]
    },
    {
      "cell_type": "code",
      "metadata": {
        "colab": {
          "base_uri": "https://localhost:8080/"
        },
        "id": "VySkv50cdIkM",
        "outputId": "91f24936-7033-4c80-cca0-cfc28f131b57"
      },
      "source": [
        "# asign device\n",
        "device = torch.device('cuda') if torch.cuda.is_available() else torch.device('cpu')\n",
        "#print(f'Available devices {torch.cuda.get_}')\n",
        "# torch.cuda.current_device() returns device id of the current device from available list\n",
        "# torch.cuda.get_device_name(id) returns the device name corresponding to the id\n",
        "print(f'Current device - {torch.cuda.get_device_properties(torch.cuda.current_device())}')"
      ],
      "execution_count": 7,
      "outputs": [
        {
          "output_type": "stream",
          "name": "stdout",
          "text": [
            "Current device - _CudaDeviceProperties(name='Tesla K80', major=3, minor=7, total_memory=11441MB, multi_processor_count=13)\n"
          ]
        }
      ]
    },
    {
      "cell_type": "markdown",
      "metadata": {
        "id": "bIiCNuVx2_f9"
      },
      "source": [
        "## **Data Download**\n",
        "\n",
        "* Download the bus-truck images dataset for object detection from dropbox link.\n",
        "* Clone ssd utils - [SSD-utils](https://github.com/sizhky/ssd-utils/)"
      ]
    },
    {
      "cell_type": "code",
      "metadata": {
        "id": "RUSY3kU32uEi"
      },
      "source": [
        "# project folder\n",
        "project_path = 'open-images-bus-trucks'\n",
        "\n",
        "# checks whether the data is downloaded or not \n",
        "if not os.path.exists(project_path):\n",
        "  # download the tar.xz zip file from dropbox\n",
        "  !wget --quiet https://www.dropbox.com/s/agmzwk95v96ihic/\\\n",
        "open-images-bus-trucks.tar.xz\n",
        "  # extract the tar file\n",
        "  !tar -xf open-images-bus-trucks.tar.xz\n",
        "  # remove the zip file to  save space\n",
        "  !rm open-images-bus-trucks.tar.xz\n",
        "  # clone the SSD utils repo\n",
        "  !git clone https://github.com/sizhky/ssd-utils/"
      ],
      "execution_count": 8,
      "outputs": []
    },
    {
      "cell_type": "markdown",
      "metadata": {
        "id": "Ephk8JbCqMx_"
      },
      "source": [
        "## **Data Preperation**\n",
        "\n",
        "Data investigation is done here, create dataframes and check the available images and annotation files|"
      ]
    },
    {
      "cell_type": "code",
      "metadata": {
        "id": "97almhRvvZsU"
      },
      "source": [
        "# define data folder paths\n",
        "data_root = os.path.join('/content/', project_path)\n",
        "image_root = os.path.join(data_root, 'images')\n",
        "\n",
        "# load the csv file containing data info in a pandas dataframe\n",
        "# raw dataframe\n",
        "df_raw = pd.read_csv(os.path.join(data_root, 'df.csv'))\n",
        "# copy the dataset\n",
        "df = df_raw.copy()"
      ],
      "execution_count": 46,
      "outputs": []
    },
    {
      "cell_type": "markdown",
      "metadata": {
        "id": "-OjdDJx0vKVQ"
      },
      "source": [
        "**Checking duplicate samples**\n"
      ]
    },
    {
      "cell_type": "code",
      "metadata": {
        "colab": {
          "base_uri": "https://localhost:8080/",
          "height": 434
        },
        "id": "E5Ckt2lOs5qY",
        "outputId": "177c4a2c-3c4f-45ab-d6e2-a06cd5e3b280"
      },
      "source": [
        "# checking the duplicate imageid\n",
        "df_d = df[df.duplicated('ImageID')]\n",
        "df_d"
      ],
      "execution_count": 47,
      "outputs": [
        {
          "output_type": "execute_result",
          "data": {
            "text/html": [
              "<div>\n",
              "<style scoped>\n",
              "    .dataframe tbody tr th:only-of-type {\n",
              "        vertical-align: middle;\n",
              "    }\n",
              "\n",
              "    .dataframe tbody tr th {\n",
              "        vertical-align: top;\n",
              "    }\n",
              "\n",
              "    .dataframe thead th {\n",
              "        text-align: right;\n",
              "    }\n",
              "</style>\n",
              "<table border=\"1\" class=\"dataframe\">\n",
              "  <thead>\n",
              "    <tr style=\"text-align: right;\">\n",
              "      <th></th>\n",
              "      <th>ImageID</th>\n",
              "      <th>Source</th>\n",
              "      <th>LabelName</th>\n",
              "      <th>Confidence</th>\n",
              "      <th>XMin</th>\n",
              "      <th>XMax</th>\n",
              "      <th>YMin</th>\n",
              "      <th>YMax</th>\n",
              "      <th>IsOccluded</th>\n",
              "      <th>IsTruncated</th>\n",
              "      <th>IsGroupOf</th>\n",
              "      <th>IsDepiction</th>\n",
              "      <th>IsInside</th>\n",
              "      <th>XClick1X</th>\n",
              "      <th>XClick2X</th>\n",
              "      <th>XClick3X</th>\n",
              "      <th>XClick4X</th>\n",
              "      <th>XClick1Y</th>\n",
              "      <th>XClick2Y</th>\n",
              "      <th>XClick3Y</th>\n",
              "      <th>XClick4Y</th>\n",
              "    </tr>\n",
              "  </thead>\n",
              "  <tbody>\n",
              "    <tr>\n",
              "      <th>2</th>\n",
              "      <td>00006bdb1eb5cd74</td>\n",
              "      <td>xclick</td>\n",
              "      <td>Truck</td>\n",
              "      <td>1</td>\n",
              "      <td>0.702500</td>\n",
              "      <td>0.999167</td>\n",
              "      <td>0.204261</td>\n",
              "      <td>0.409774</td>\n",
              "      <td>1</td>\n",
              "      <td>1</td>\n",
              "      <td>0</td>\n",
              "      <td>0</td>\n",
              "      <td>0</td>\n",
              "      <td>0.849167</td>\n",
              "      <td>0.702500</td>\n",
              "      <td>0.906667</td>\n",
              "      <td>0.999167</td>\n",
              "      <td>0.204261</td>\n",
              "      <td>0.398496</td>\n",
              "      <td>0.409774</td>\n",
              "      <td>0.295739</td>\n",
              "    </tr>\n",
              "    <tr>\n",
              "      <th>8</th>\n",
              "      <td>0004d5a9dd44ab6a</td>\n",
              "      <td>xclick</td>\n",
              "      <td>Truck</td>\n",
              "      <td>1</td>\n",
              "      <td>0.094375</td>\n",
              "      <td>0.897500</td>\n",
              "      <td>0.147014</td>\n",
              "      <td>0.934150</td>\n",
              "      <td>0</td>\n",
              "      <td>0</td>\n",
              "      <td>0</td>\n",
              "      <td>0</td>\n",
              "      <td>0</td>\n",
              "      <td>0.365000</td>\n",
              "      <td>0.094375</td>\n",
              "      <td>0.333750</td>\n",
              "      <td>0.897500</td>\n",
              "      <td>0.147014</td>\n",
              "      <td>0.609495</td>\n",
              "      <td>0.934150</td>\n",
              "      <td>0.822358</td>\n",
              "    </tr>\n",
              "    <tr>\n",
              "      <th>9</th>\n",
              "      <td>0004d5a9dd44ab6a</td>\n",
              "      <td>xclick</td>\n",
              "      <td>Truck</td>\n",
              "      <td>1</td>\n",
              "      <td>0.860625</td>\n",
              "      <td>0.999375</td>\n",
              "      <td>0.249617</td>\n",
              "      <td>0.390505</td>\n",
              "      <td>1</td>\n",
              "      <td>0</td>\n",
              "      <td>0</td>\n",
              "      <td>0</td>\n",
              "      <td>0</td>\n",
              "      <td>0.992500</td>\n",
              "      <td>0.999375</td>\n",
              "      <td>0.860625</td>\n",
              "      <td>0.921250</td>\n",
              "      <td>0.249617</td>\n",
              "      <td>0.294028</td>\n",
              "      <td>0.325421</td>\n",
              "      <td>0.390505</td>\n",
              "    </tr>\n",
              "    <tr>\n",
              "      <th>15</th>\n",
              "      <td>0007eeeabf3c5e5c</td>\n",
              "      <td>xclick</td>\n",
              "      <td>Bus</td>\n",
              "      <td>1</td>\n",
              "      <td>0.620625</td>\n",
              "      <td>0.999375</td>\n",
              "      <td>0.406667</td>\n",
              "      <td>0.647778</td>\n",
              "      <td>1</td>\n",
              "      <td>1</td>\n",
              "      <td>0</td>\n",
              "      <td>0</td>\n",
              "      <td>0</td>\n",
              "      <td>0.920000</td>\n",
              "      <td>0.999375</td>\n",
              "      <td>0.871875</td>\n",
              "      <td>0.620625</td>\n",
              "      <td>0.406667</td>\n",
              "      <td>0.458889</td>\n",
              "      <td>0.647778</td>\n",
              "      <td>0.432222</td>\n",
              "    </tr>\n",
              "    <tr>\n",
              "      <th>19</th>\n",
              "      <td>000924a411c24d25</td>\n",
              "      <td>xclick</td>\n",
              "      <td>Bus</td>\n",
              "      <td>1</td>\n",
              "      <td>0.000000</td>\n",
              "      <td>0.086875</td>\n",
              "      <td>0.429644</td>\n",
              "      <td>0.702627</td>\n",
              "      <td>1</td>\n",
              "      <td>1</td>\n",
              "      <td>0</td>\n",
              "      <td>0</td>\n",
              "      <td>0</td>\n",
              "      <td>0.033125</td>\n",
              "      <td>0.086875</td>\n",
              "      <td>0.008750</td>\n",
              "      <td>0.000000</td>\n",
              "      <td>0.429644</td>\n",
              "      <td>0.632270</td>\n",
              "      <td>0.702627</td>\n",
              "      <td>0.636023</td>\n",
              "    </tr>\n",
              "    <tr>\n",
              "      <th>...</th>\n",
              "      <td>...</td>\n",
              "      <td>...</td>\n",
              "      <td>...</td>\n",
              "      <td>...</td>\n",
              "      <td>...</td>\n",
              "      <td>...</td>\n",
              "      <td>...</td>\n",
              "      <td>...</td>\n",
              "      <td>...</td>\n",
              "      <td>...</td>\n",
              "      <td>...</td>\n",
              "      <td>...</td>\n",
              "      <td>...</td>\n",
              "      <td>...</td>\n",
              "      <td>...</td>\n",
              "      <td>...</td>\n",
              "      <td>...</td>\n",
              "      <td>...</td>\n",
              "      <td>...</td>\n",
              "      <td>...</td>\n",
              "      <td>...</td>\n",
              "    </tr>\n",
              "    <tr>\n",
              "      <th>24043</th>\n",
              "      <td>ffc0475ac3f403de</td>\n",
              "      <td>xclick</td>\n",
              "      <td>Truck</td>\n",
              "      <td>1</td>\n",
              "      <td>0.626250</td>\n",
              "      <td>0.999375</td>\n",
              "      <td>0.245779</td>\n",
              "      <td>0.999062</td>\n",
              "      <td>1</td>\n",
              "      <td>0</td>\n",
              "      <td>0</td>\n",
              "      <td>0</td>\n",
              "      <td>0</td>\n",
              "      <td>0.826250</td>\n",
              "      <td>0.626250</td>\n",
              "      <td>0.999375</td>\n",
              "      <td>0.999375</td>\n",
              "      <td>0.245779</td>\n",
              "      <td>0.814259</td>\n",
              "      <td>0.999062</td>\n",
              "      <td>0.999062</td>\n",
              "    </tr>\n",
              "    <tr>\n",
              "      <th>24045</th>\n",
              "      <td>ffc67982d4790275</td>\n",
              "      <td>xclick</td>\n",
              "      <td>Bus</td>\n",
              "      <td>1</td>\n",
              "      <td>0.456277</td>\n",
              "      <td>0.999134</td>\n",
              "      <td>0.392991</td>\n",
              "      <td>0.735920</td>\n",
              "      <td>0</td>\n",
              "      <td>1</td>\n",
              "      <td>0</td>\n",
              "      <td>0</td>\n",
              "      <td>0</td>\n",
              "      <td>0.568831</td>\n",
              "      <td>0.456277</td>\n",
              "      <td>0.669264</td>\n",
              "      <td>0.999134</td>\n",
              "      <td>0.392991</td>\n",
              "      <td>0.563204</td>\n",
              "      <td>0.735920</td>\n",
              "      <td>0.486859</td>\n",
              "    </tr>\n",
              "    <tr>\n",
              "      <th>24050</th>\n",
              "      <td>ffd1093b9f7d3e13</td>\n",
              "      <td>xclick</td>\n",
              "      <td>Bus</td>\n",
              "      <td>1</td>\n",
              "      <td>0.942500</td>\n",
              "      <td>0.999375</td>\n",
              "      <td>0.468105</td>\n",
              "      <td>0.768293</td>\n",
              "      <td>0</td>\n",
              "      <td>1</td>\n",
              "      <td>0</td>\n",
              "      <td>0</td>\n",
              "      <td>0</td>\n",
              "      <td>0.995625</td>\n",
              "      <td>0.942500</td>\n",
              "      <td>0.978750</td>\n",
              "      <td>0.999375</td>\n",
              "      <td>0.468105</td>\n",
              "      <td>0.608818</td>\n",
              "      <td>0.768293</td>\n",
              "      <td>0.583490</td>\n",
              "    </tr>\n",
              "    <tr>\n",
              "      <th>24059</th>\n",
              "      <td>fff376d20410e4c9</td>\n",
              "      <td>xclick</td>\n",
              "      <td>Bus</td>\n",
              "      <td>1</td>\n",
              "      <td>0.348125</td>\n",
              "      <td>0.701250</td>\n",
              "      <td>0.423333</td>\n",
              "      <td>0.744167</td>\n",
              "      <td>0</td>\n",
              "      <td>0</td>\n",
              "      <td>0</td>\n",
              "      <td>1</td>\n",
              "      <td>0</td>\n",
              "      <td>0.478750</td>\n",
              "      <td>0.493125</td>\n",
              "      <td>0.348125</td>\n",
              "      <td>0.701250</td>\n",
              "      <td>0.423333</td>\n",
              "      <td>0.744167</td>\n",
              "      <td>0.537500</td>\n",
              "      <td>0.523333</td>\n",
              "    </tr>\n",
              "    <tr>\n",
              "      <th>24061</th>\n",
              "      <td>fffde5953a818927</td>\n",
              "      <td>xclick</td>\n",
              "      <td>Bus</td>\n",
              "      <td>1</td>\n",
              "      <td>0.613125</td>\n",
              "      <td>0.828750</td>\n",
              "      <td>0.623333</td>\n",
              "      <td>0.795833</td>\n",
              "      <td>1</td>\n",
              "      <td>0</td>\n",
              "      <td>0</td>\n",
              "      <td>0</td>\n",
              "      <td>0</td>\n",
              "      <td>0.715000</td>\n",
              "      <td>0.828750</td>\n",
              "      <td>0.710000</td>\n",
              "      <td>0.613125</td>\n",
              "      <td>0.623333</td>\n",
              "      <td>0.760833</td>\n",
              "      <td>0.795833</td>\n",
              "      <td>0.730000</td>\n",
              "    </tr>\n",
              "  </tbody>\n",
              "</table>\n",
              "<p>8837 rows × 21 columns</p>\n",
              "</div>"
            ],
            "text/plain": [
              "                ImageID  Source LabelName  ...  XClick2Y  XClick3Y  XClick4Y\n",
              "2      00006bdb1eb5cd74  xclick     Truck  ...  0.398496  0.409774  0.295739\n",
              "8      0004d5a9dd44ab6a  xclick     Truck  ...  0.609495  0.934150  0.822358\n",
              "9      0004d5a9dd44ab6a  xclick     Truck  ...  0.294028  0.325421  0.390505\n",
              "15     0007eeeabf3c5e5c  xclick       Bus  ...  0.458889  0.647778  0.432222\n",
              "19     000924a411c24d25  xclick       Bus  ...  0.632270  0.702627  0.636023\n",
              "...                 ...     ...       ...  ...       ...       ...       ...\n",
              "24043  ffc0475ac3f403de  xclick     Truck  ...  0.814259  0.999062  0.999062\n",
              "24045  ffc67982d4790275  xclick       Bus  ...  0.563204  0.735920  0.486859\n",
              "24050  ffd1093b9f7d3e13  xclick       Bus  ...  0.608818  0.768293  0.583490\n",
              "24059  fff376d20410e4c9  xclick       Bus  ...  0.744167  0.537500  0.523333\n",
              "24061  fffde5953a818927  xclick       Bus  ...  0.760833  0.795833  0.730000\n",
              "\n",
              "[8837 rows x 21 columns]"
            ]
          },
          "metadata": {},
          "execution_count": 47
        }
      ]
    },
    {
      "cell_type": "markdown",
      "metadata": {
        "id": "bvBfcYYByS1m"
      },
      "source": [
        "**Define targets**"
      ]
    },
    {
      "cell_type": "code",
      "metadata": {
        "id": "RKXdeY0oh2lO",
        "colab": {
          "base_uri": "https://localhost:8080/"
        },
        "outputId": "cc4ab178-4227-40d2-afc9-65b550338ef0"
      },
      "source": [
        "# this ensures whether the image ids are within unique imageid\n",
        "df = df[df['ImageID'].isin(df['ImageID'].unique().tolist())]\n",
        "# create target dictionary from unique labels\n",
        "label2target = {l:t+1 for t,l in enumerate(df_raw['LabelName'].unique())}\n",
        "# define additional target 'background' having id  = 0, used in SSD(-ve class)\n",
        "label2target['background'] = 0\n",
        "# define target2label dict\n",
        "target2label = {t:l for l,t in label2target.items()}\n",
        "\n",
        "num_classes = len(label2target)\n",
        "\n",
        "print(f'Dataset contains total {num_classes} classes, having below categories {target2label}')\n",
        "print(label2target)"
      ],
      "execution_count": 57,
      "outputs": [
        {
          "output_type": "stream",
          "name": "stdout",
          "text": [
            "Dataset contains total 3 classes, having below categories {1: 'Bus', 2: 'Truck', 0: 'background'}\n",
            "{'Bus': 1, 'Truck': 2, 'background': 0}\n"
          ]
        }
      ]
    },
    {
      "cell_type": "code",
      "metadata": {
        "id": "UyyewDahxVAg"
      },
      "source": [
        ""
      ],
      "execution_count": null,
      "outputs": []
    }
  ]
}