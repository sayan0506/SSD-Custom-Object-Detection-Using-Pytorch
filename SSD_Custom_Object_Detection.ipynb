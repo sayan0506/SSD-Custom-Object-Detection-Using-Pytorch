{
  "nbformat": 4,
  "nbformat_minor": 0,
  "metadata": {
    "colab": {
      "name": "SSD_Custom_Object_Detection.ipynb",
      "provenance": [],
      "authorship_tag": "ABX9TyO5Us504Nm3HsP/z+sdHDjy",
      "include_colab_link": true
    },
    "kernelspec": {
      "name": "python3",
      "display_name": "Python 3"
    },
    "language_info": {
      "name": "python"
    },
    "accelerator": "GPU"
  },
  "cells": [
    {
      "cell_type": "markdown",
      "metadata": {
        "id": "view-in-github",
        "colab_type": "text"
      },
      "source": [
        "<a href=\"https://colab.research.google.com/github/sayan0506/SSD-Custom-Object-Detection-Using-Pytorch/blob/main/SSD_Custom_Object_Detection.ipynb\" target=\"_parent\"><img src=\"https://colab.research.google.com/assets/colab-badge.svg\" alt=\"Open In Colab\"/></a>"
      ]
    },
    {
      "cell_type": "markdown",
      "metadata": {
        "id": "mQCnMOU9pK-l"
      },
      "source": [
        "# **Implement SSD for Object Detection using Pytorch**\n",
        "\n",
        "Here, in this notebook we will try to implement SSD(Single Shot multi-box Detection) algorithm for object detection, this code is inspired from the book - \"[Modern Computer Vision with PyTorch](https://www.packtpub.com/product/modern-computer-vision-with-pytorch/9781839213472)\". FOr this experiment, we will try to utilize the object detection from image size 300, thus we will use SSD300 variant of the SSD series"
      ]
    },
    {
      "cell_type": "markdown",
      "metadata": {
        "id": "VGmOxRTfumjD"
      },
      "source": [
        "## **Install Dependencies**\n",
        "\n",
        "* [torch_snippets](https://github.com/sizhky/torch_snippets) - contains the utility functions for simple supporting tasks regardinfg tor ch implementations\n",
        "* [How to run wget quietly](http://oliviertech.com/linux/how-to-run-wget-quietly/#:~:text=The%20wget%20command%20is%20used,are%20writtent%20in%20the%20output.) - wget function is used to download files from given url, and \"wget -q\", here -q parameter helps to download from wget quietly, so that the output/download status will not print in the console/terminal"
      ]
    },
    {
      "cell_type": "code",
      "metadata": {
        "id": "H9Doaoz7crli"
      },
      "source": [
        "# install/download dependencies inside the following folder\n",
        "#project_path = 'open-images-bus-trucks'\n",
        " \n",
        "#if not os.path.exists(project_path):\n",
        "# installs torch_snippets quietly\n",
        "!pip install -q torch_utils\n"
      ],
      "execution_count": 4,
      "outputs": []
    },
    {
      "cell_type": "markdown",
      "metadata": {
        "id": "dQWJLU272fG2"
      },
      "source": [
        "## **Import Libraries**"
      ]
    },
    {
      "cell_type": "code",
      "metadata": {
        "id": "49ttx0-Mz0Fl"
      },
      "source": [
        "import os, collections\n",
        "from torch_snippets import *\n",
        "import torch\n",
        "from torchvision import transforms\n",
        "import pandas as pd\n",
        "import matplotlib.pyplot as plt"
      ],
      "execution_count": 8,
      "outputs": []
    },
    {
      "cell_type": "markdown",
      "metadata": {
        "id": "bIiCNuVx2_f9"
      },
      "source": [
        "## **Data Download**"
      ]
    },
    {
      "cell_type": "code",
      "metadata": {
        "id": "RUSY3kU32uEi"
      },
      "source": [
        ""
      ],
      "execution_count": null,
      "outputs": []
    }
  ]
}